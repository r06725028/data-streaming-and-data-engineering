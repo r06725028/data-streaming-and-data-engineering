{
 "cells": [
  {
   "cell_type": "markdown",
   "id": "90fa0c80",
   "metadata": {},
   "source": [
    "# Q1. (10%): Ingest both of your train and test NSL-KDD dataset into one Postgres Database table"
   ]
  },
  {
   "cell_type": "code",
   "execution_count": 12,
   "id": "1b4ace8a",
   "metadata": {},
   "outputs": [
    {
     "name": "stdout",
     "output_type": "stream",
     "text": [
      "22/10/13 12:27:04 WARN Utils: Your hostname, Users-MacBook-Pro.local resolves to a loopback address: 127.0.0.1; using 10.0.0.26 instead (on interface en0)\n",
      "22/10/13 12:27:04 WARN Utils: Set SPARK_LOCAL_IP if you need to bind to another address\n",
      ":: loading settings :: url = jar:file:/usr/local/lib/python3.10/site-packages/pyspark/jars/ivy-2.5.0.jar!/org/apache/ivy/core/settings/ivysettings.xml\n"
     ]
    },
    {
     "name": "stderr",
     "output_type": "stream",
     "text": [
      "Ivy Default Cache set to: /Users/user/.ivy2/cache\n",
      "The jars for the packages stored in: /Users/user/.ivy2/jars\n",
      "org.postgresql#postgresql added as a dependency\n",
      ":: resolving dependencies :: org.apache.spark#spark-submit-parent-23abf2be-42c5-4bad-891c-a9ca812473ac;1.0\n",
      "\tconfs: [default]\n",
      "\tfound org.postgresql#postgresql;42.1.1 in central\n",
      ":: resolution report :: resolve 149ms :: artifacts dl 2ms\n",
      "\t:: modules in use:\n",
      "\torg.postgresql#postgresql;42.1.1 from central in [default]\n",
      "\t---------------------------------------------------------------------\n",
      "\t|                  |            modules            ||   artifacts   |\n",
      "\t|       conf       | number| search|dwnlded|evicted|| number|dwnlded|\n",
      "\t---------------------------------------------------------------------\n",
      "\t|      default     |   1   |   0   |   0   |   0   ||   1   |   0   |\n",
      "\t---------------------------------------------------------------------\n",
      ":: retrieving :: org.apache.spark#spark-submit-parent-23abf2be-42c5-4bad-891c-a9ca812473ac\n",
      "\tconfs: [default]\n",
      "\t0 artifacts copied, 1 already retrieved (0kB/3ms)\n"
     ]
    },
    {
     "name": "stdout",
     "output_type": "stream",
     "text": [
      "22/10/13 12:27:05 WARN NativeCodeLoader: Unable to load native-hadoop library for your platform... using builtin-java classes where applicable\n"
     ]
    },
    {
     "name": "stderr",
     "output_type": "stream",
     "text": [
      "Setting default log level to \"WARN\".\n",
      "To adjust logging level use sc.setLogLevel(newLevel). For SparkR, use setLogLevel(newLevel).\n"
     ]
    },
    {
     "name": "stdout",
     "output_type": "stream",
     "text": [
      "APP Name :GenericAppName\n",
      "Master :local[*]\n"
     ]
    },
    {
     "name": "stderr",
     "output_type": "stream",
     "text": [
      "/usr/local/lib/python3.10/site-packages/pyspark/sql/context.py:112: FutureWarning: Deprecated in 3.0.0. Use SparkSession.builder.getOrCreate() instead.\n",
      "  warnings.warn(\n"
     ]
    }
   ],
   "source": [
    "import pyspark\n",
    "from pyspark import SparkContext, SparkConf, SQLContext\n",
    "from pyspark.sql import SparkSession\n",
    "\n",
    "from pyspark.sql import SparkSession\n",
    "\n",
    "import os\n",
    "os.environ['PYSPARK_SUBMIT_ARGS'] = '--packages org.postgresql:postgresql:42.1.1 pyspark-shell'\n",
    "\n",
    "\n",
    "spark = SparkSession.builder \\\n",
    "    .master(\"local[*]\") \\\n",
    "    .appName(\"GenericAppName\") \\\n",
    "    .getOrCreate()\n",
    "\n",
    "sc = spark.sparkContext\n",
    "sqlContext = SQLContext(sc)\n",
    "\n",
    "\n",
    "print(\"APP Name :\"+ spark.sparkContext.appName);\n",
    "print(\"Master :\"+ spark.sparkContext.master);"
   ]
  },
  {
   "cell_type": "code",
   "execution_count": 13,
   "id": "9a4639b7",
   "metadata": {},
   "outputs": [
    {
     "name": "stderr",
     "output_type": "stream",
     "text": [
      "                                                                                \r"
     ]
    },
    {
     "name": "stdout",
     "output_type": "stream",
     "text": [
      "KDDTrain+ 125973\n"
     ]
    },
    {
     "name": "stderr",
     "output_type": "stream",
     "text": [
      "                                                                                \r"
     ]
    },
    {
     "name": "stdout",
     "output_type": "stream",
     "text": [
      "KDDTest+ 22544\n"
     ]
    }
   ],
   "source": [
    "from pyspark import SparkFiles\n",
    "\n",
    "col_names = [\"duration\",\"protocol_type\",\"service\",\"flag\",\"src_bytes\",\n",
    "    \"dst_bytes\",\"land\",\"wrong_fragment\",\"urgent\",\"hot\",\"num_failed_logins\",\n",
    "    \"logged_in\",\"num_compromised\",\"root_shell\",\"su_attempted\",\"num_root\",\n",
    "    \"num_file_creations\",\"num_shells\",\"num_access_files\",\"num_outbound_cmds\",\n",
    "    \"is_host_login\",\"is_guest_login\",\"count\",\"srv_count\",\"serror_rate\",\n",
    "    \"srv_serror_rate\",\"rerror_rate\",\"srv_rerror_rate\",\"same_srv_rate\",\n",
    "    \"diff_srv_rate\",\"srv_diff_host_rate\",\"dst_host_count\",\"dst_host_srv_count\",\n",
    "    \"dst_host_same_srv_rate\",\"dst_host_diff_srv_rate\",\"dst_host_same_src_port_rate\",\n",
    "    \"dst_host_srv_diff_host_rate\",\"dst_host_serror_rate\",\"dst_host_srv_serror_rate\",\n",
    "    \"dst_host_rerror_rate\",\"dst_host_srv_rerror_rate\",\"classes\",\"difficulty_level\"]\n",
    "\n",
    "db_properties={}\n",
    "db_properties['username']=\"user\"\n",
    "db_properties['password']=\"\"\n",
    "db_properties['url']= \"jdbc:postgresql://localhost:5432/postgres\"\n",
    "db_properties['driver']=\"org.postgresql.Driver\"\n",
    "db_properties['table']= \"NSLKDD\"\n",
    "\n",
    "def read_txt(data_file):    \n",
    "    data_url = \"https://www.andrew.cmu.edu/user/mfarag/14813/{}.txt\".format(data_file)\n",
    "    spark.sparkContext.addFile(data_url)\n",
    "    df = spark.read.csv(SparkFiles.get(\"{}.txt\".format(data_file)),header=False, inferSchema= True).toDF(*col_names)\n",
    "    \n",
    "    print(data_file, df.count())\n",
    "    return df\n",
    "\n",
    "train_df = read_txt('KDDTrain+')\n",
    "test_df = read_txt('KDDTest+')"
   ]
  },
  {
   "cell_type": "code",
   "execution_count": 14,
   "id": "ae480454",
   "metadata": {},
   "outputs": [
    {
     "name": "stdout",
     "output_type": "stream",
     "text": [
      "22/10/13 12:28:24 WARN package: Truncated the string representation of a plan since it was too large. This behavior can be adjusted by setting 'spark.sql.debug.maxToStringFields'.\n"
     ]
    },
    {
     "name": "stderr",
     "output_type": "stream",
     "text": [
      "[Stage 11:>                                                         (0 + 1) / 1]\r"
     ]
    },
    {
     "name": "stdout",
     "output_type": "stream",
     "text": [
      "read OK!\n"
     ]
    },
    {
     "name": "stderr",
     "output_type": "stream",
     "text": [
      "\r",
      "                                                                                \r"
     ]
    }
   ],
   "source": [
    "db_properties={}\n",
    "db_properties['username']=\"user\"\n",
    "db_properties['password']=\"\"\n",
    "db_properties['url']= \"jdbc:postgresql://localhost:5432/postgres\"\n",
    "db_properties['driver']=\"org.postgresql.Driver\"\n",
    "db_properties['table']= \"NSLKDD\"\n",
    "\n",
    "train_df.write.format(\"jdbc\")\\\n",
    "    .mode(\"overwrite\")\\\n",
    "    .option(\"url\", db_properties['url'])\\\n",
    "    .option(\"dbtable\", db_properties['table'])\\\n",
    "    .option(\"user\", db_properties['username'])\\\n",
    "    .option(\"password\", db_properties['password'])\\\n",
    "    .option(\"Driver\", db_properties['driver'])\\\n",
    "    .save()\n",
    "\n",
    "test_df.write.format(\"jdbc\")\\\n",
    "    .mode(\"append\")\\\n",
    "    .option(\"url\", db_properties['url'])\\\n",
    "    .option(\"dbtable\", db_properties['table'])\\\n",
    "    .option(\"user\", db_properties['username'])\\\n",
    "    .option(\"password\", db_properties['password'])\\\n",
    "    .option(\"Driver\", db_properties['driver'])\\\n",
    "    .save()\n",
    "\n",
    "print('read OK!')"
   ]
  },
  {
   "cell_type": "code",
   "execution_count": 15,
   "id": "e2b1b38c",
   "metadata": {},
   "outputs": [
    {
     "name": "stdout",
     "output_type": "stream",
     "text": [
      "[SUCCESSFUL] Ingest both of your train and test NSL-KDD dataset into one Postgres Database table!\n",
      "# of data (train & test dataset): 148517\n"
     ]
    }
   ],
   "source": [
    "df_read = sqlContext.read.format(\"jdbc\")\\\n",
    "    .option(\"url\", db_properties['url'])\\\n",
    "    .option(\"dbtable\", db_properties['table'])\\\n",
    "    .option(\"user\", db_properties['username'])\\\n",
    "    .option(\"password\", db_properties['password'])\\\n",
    "    .option(\"Driver\", db_properties['driver'])\\\n",
    "    .load()\n",
    "\n",
    "if df_read.count() == (train_df.count() + test_df.count()):\n",
    "    print('[SUCCESSFUL] Ingest both of your train and test NSL-KDD dataset into one Postgres Database table!')\n",
    "    print('# of data (train & test dataset): {}'.format(df_read.count()))\n",
    "else:\n",
    "    print('[ERROR] ingest dataset failed !!!!')"
   ]
  },
  {
   "cell_type": "markdown",
   "id": "09f60fd6",
   "metadata": {},
   "source": [
    "# Q2. (20%): What is the most popular attack on Twitter from the attacks listed in the dataset? Hint: You may use Kafka to fetch a 5-minute twitter feed. Your answer may vary depending on the time of the day you run your application. Run KafkaTweetListener in a separate notebook."
   ]
  },
  {
   "cell_type": "code",
   "execution_count": 2,
   "id": "13c779a1",
   "metadata": {},
   "outputs": [],
   "source": [
    "from kafka import KafkaConsumer\n",
    "import json\n",
    "\n",
    "topic_name = 'hw5'\n",
    "\n",
    "kafka_consumer = KafkaConsumer(\n",
    "    topic_name,\n",
    "    bootstrap_servers=['localhost:9092'],\n",
    "    auto_offset_reset='latest',\n",
    "    enable_auto_commit=True,\n",
    "    auto_commit_interval_ms =  5000,\n",
    "    fetch_max_bytes = 128,\n",
    "    max_poll_records = 100,\n",
    "    value_deserializer=lambda x: x.decode('utf-8'))"
   ]
  },
  {
   "cell_type": "code",
   "execution_count": 9,
   "id": "26542026",
   "metadata": {},
   "outputs": [
    {
     "name": "stdout",
     "output_type": "stream",
     "text": [
      "21 satan 1\n",
      "25 satan 2\n",
      "37 satan 3\n",
      "45 satan 4\n",
      "69 satan 5\n",
      "72 neptune 1\n",
      "99 satan 6\n",
      "134 satan 7\n",
      "149 satan 8\n",
      "172 satan 9\n",
      "203 satan 10\n",
      "218 satan 11\n",
      "224 satan 12\n",
      "227 satan 13\n",
      "Done 248\n"
     ]
    }
   ],
   "source": [
    "from pyspark.sql.functions import *\n",
    "from pyspark.sql.types import *\n",
    "\n",
    "from time import time\n",
    "\n",
    "class_dict = {\"neptune\":0, \"satan\":0, \"ipsweep\":0}\n",
    "\n",
    "i = 0\n",
    "\n",
    "start = time()\n",
    "\n",
    "for message in kafka_consumer:\n",
    "    i = i + 1\n",
    "    for class_name in class_dict.keys():\n",
    "        if class_name in message.value:\n",
    "            class_dict[class_name] += 1\n",
    "            print(i, class_name, class_dict[class_name])\n",
    "    \n",
    "    if (time()-start) > 300:\n",
    "        break\n",
    "            \n",
    "print('Done', i)"
   ]
  },
  {
   "cell_type": "code",
   "execution_count": 10,
   "id": "cc9aa556",
   "metadata": {},
   "outputs": [
    {
     "data": {
      "text/plain": [
       "{'neptune': 1, 'satan': 13, 'ipsweep': 0}"
      ]
     },
     "execution_count": 10,
     "metadata": {},
     "output_type": "execute_result"
    }
   ],
   "source": [
    "class_dict"
   ]
  },
  {
   "cell_type": "markdown",
   "id": "0b2264df",
   "metadata": {},
   "source": [
    "#### the most popular attack on twitter in this 5-minute twitter is satan"
   ]
  },
  {
   "cell_type": "markdown",
   "id": "fb8df8d4",
   "metadata": {},
   "source": [
    "# Q3. (20%): Visualize the most frequent 5 attacks in the dataset (No social media analytics are involved here). Hint: use a histogram for your visualization."
   ]
  },
  {
   "cell_type": "code",
   "execution_count": 30,
   "id": "fb0a6a08",
   "metadata": {},
   "outputs": [
    {
     "name": "stderr",
     "output_type": "stream",
     "text": [
      "                                                                                \r"
     ]
    },
    {
     "data": {
      "text/html": [
       "<div>\n",
       "<style scoped>\n",
       "    .dataframe tbody tr th:only-of-type {\n",
       "        vertical-align: middle;\n",
       "    }\n",
       "\n",
       "    .dataframe tbody tr th {\n",
       "        vertical-align: top;\n",
       "    }\n",
       "\n",
       "    .dataframe thead th {\n",
       "        text-align: right;\n",
       "    }\n",
       "</style>\n",
       "<table border=\"1\" class=\"dataframe\">\n",
       "  <thead>\n",
       "    <tr style=\"text-align: right;\">\n",
       "      <th></th>\n",
       "      <th>classes</th>\n",
       "      <th>attack</th>\n",
       "    </tr>\n",
       "  </thead>\n",
       "  <tbody>\n",
       "    <tr>\n",
       "      <th>normal</th>\n",
       "      <td>77054</td>\n",
       "      <td>normal</td>\n",
       "    </tr>\n",
       "    <tr>\n",
       "      <th>neptune</th>\n",
       "      <td>45871</td>\n",
       "      <td>neptune</td>\n",
       "    </tr>\n",
       "    <tr>\n",
       "      <th>satan</th>\n",
       "      <td>4368</td>\n",
       "      <td>satan</td>\n",
       "    </tr>\n",
       "    <tr>\n",
       "      <th>ipsweep</th>\n",
       "      <td>3740</td>\n",
       "      <td>ipsweep</td>\n",
       "    </tr>\n",
       "    <tr>\n",
       "      <th>smurf</th>\n",
       "      <td>3311</td>\n",
       "      <td>smurf</td>\n",
       "    </tr>\n",
       "  </tbody>\n",
       "</table>\n",
       "</div>"
      ],
      "text/plain": [
       "         classes   attack\n",
       "normal     77054   normal\n",
       "neptune    45871  neptune\n",
       "satan       4368    satan\n",
       "ipsweep     3740  ipsweep\n",
       "smurf       3311    smurf"
      ]
     },
     "execution_count": 30,
     "metadata": {},
     "output_type": "execute_result"
    }
   ],
   "source": [
    "import pandas as pd\n",
    "top_5 = pd.DataFrame(df_read.toPandas()['classes'].value_counts()[:5])\n",
    "top_5['attack'] = top_5.index\n",
    "\n",
    "top_5"
   ]
  },
  {
   "cell_type": "code",
   "execution_count": 31,
   "id": "94cb0453",
   "metadata": {},
   "outputs": [
    {
     "data": {
      "image/png": "[encoded data removed]",
      "text/plain": [
       "<Figure size 2000x1500 with 1 Axes>"
      ]
     },
     "metadata": {},
     "output_type": "display_data"
    }
   ],
   "source": [
    "import seaborn as sns\n",
    "from IPython import display\n",
    "import matplotlib.pyplot as plt\n",
    "\n",
    "plt.figure( figsize = ( 20, 15 ) )\n",
    "sns.barplot( x=\"attack\", y=\"classes\", data=top_5)\n",
    "plt.show()"
   ]
  },
  {
   "cell_type": "markdown",
   "id": "4dae3b4e",
   "metadata": {},
   "source": [
    "# Q4. (50%): Use the Machine Learning Process Flow chart shown in the lecture to conduct all the feature engineering steps that are required to be done on the NFL-Pro- Bowl dataset. \n",
    "Limit your data cleaning and engineering to Plays.csv.\n",
    "Stop at the data scaling stage of the process flow chart in Phase-2. (Make sure to conduct phase-1 as well)."
   ]
  },
  {
   "cell_type": "markdown",
   "id": "802ef4b9",
   "metadata": {},
   "source": [
    "### 1. Ingest Data from CSV and Insert them into PostgreSQL¶"
   ]
  },
  {
   "cell_type": "code",
   "execution_count": 41,
   "id": "4cb014d9",
   "metadata": {},
   "outputs": [
    {
     "name": "stdout",
     "output_type": "stream",
     "text": [
      "14193\n",
      "root\n",
      " |-- gameId: integer (nullable = true)\n",
      " |-- playId: integer (nullable = true)\n",
      " |-- quarter: integer (nullable = true)\n",
      " |-- GameClock: timestamp (nullable = true)\n",
      " |-- down: integer (nullable = true)\n",
      " |-- yardsToGo: integer (nullable = true)\n",
      " |-- possessionTeam: string (nullable = true)\n",
      " |-- yardlineSide: string (nullable = true)\n",
      " |-- yardlineNumber: string (nullable = true)\n",
      " |-- offenseFormation: string (nullable = true)\n",
      " |-- personnel.offense: string (nullable = true)\n",
      " |-- defendersInTheBox: string (nullable = true)\n",
      " |-- numberOfPassRushers: string (nullable = true)\n",
      " |-- personnel.defense: string (nullable = true)\n",
      " |-- HomeScoreBeforePlay: integer (nullable = true)\n",
      " |-- VisitorScoreBeforePlay: integer (nullable = true)\n",
      " |-- HomeScoreAfterPlay: integer (nullable = true)\n",
      " |-- VisitorScoreAfterPlay: integer (nullable = true)\n",
      " |-- isPenalty: boolean (nullable = true)\n",
      " |-- isSTPlay: boolean (nullable = true)\n",
      " |-- SpecialTeamsPlayType: string (nullable = true)\n",
      " |-- KickReturnYardage: string (nullable = true)\n",
      " |-- PassLength: string (nullable = true)\n",
      " |-- PassResult: string (nullable = true)\n",
      " |-- YardsAfterCatch: string (nullable = true)\n",
      " |-- PlayResult: integer (nullable = true)\n",
      " |-- playDescription: string (nullable = true)\n",
      "\n",
      "-RECORD 0--------------------------------------\n",
      " gameId                 | 2017091004           \n",
      " playId                 | 37                   \n",
      " quarter                | 1                    \n",
      " GameClock              | 2022-10-13 15:00:00  \n",
      " down                   | 0                    \n",
      " yardsToGo              | 0                    \n",
      " possessionTeam         | DET                  \n",
      " yardlineSide           | DET                  \n",
      " yardlineNumber         | 35                   \n",
      " offenseFormation       | NA                   \n",
      " personnel.offense      | NA                   \n",
      " defendersInTheBox      | NA                   \n",
      " numberOfPassRushers    | NA                   \n",
      " personnel.defense      | NA                   \n",
      " HomeScoreBeforePlay    | 0                    \n",
      " VisitorScoreBeforePlay | 0                    \n",
      " HomeScoreAfterPlay     | 0                    \n",
      " VisitorScoreAfterPlay  | 0                    \n",
      " isPenalty              | false                \n",
      " isSTPlay               | true                 \n",
      " SpecialTeamsPlayType   | Kickoff              \n",
      " KickReturnYardage      | 23                   \n",
      " PassLength             | NA                   \n",
      " PassResult             | NA                   \n",
      " YardsAfterCatch        | NA                   \n",
      " PlayResult             | 42                   \n",
      " playDescription        | K.Redfern kicks 6... \n",
      "only showing top 1 row\n",
      "\n"
     ]
    }
   ],
   "source": [
    "df = spark.read.csv('plays.csv',header=True, inferSchema=True)\n",
    "\n",
    "print(df.count())\n",
    "df.printSchema()\n",
    "df.show(1, vertical=True)"
   ]
  },
  {
   "cell_type": "code",
   "execution_count": 42,
   "id": "82081584",
   "metadata": {},
   "outputs": [
    {
     "name": "stderr",
     "output_type": "stream",
     "text": [
      "                                                                                \r"
     ]
    }
   ],
   "source": [
    "db_properties={}\n",
    "db_properties['username']=\"user\"\n",
    "db_properties['password']=\"\"\n",
    "db_properties['url']= \"jdbc:postgresql://localhost:5432/postgres\"\n",
    "db_properties['driver']=\"org.postgresql.Driver\"\n",
    "db_properties['table']= \"plays\"\n",
    "\n",
    "df.write.format(\"jdbc\")\\\n",
    ".mode(\"overwrite\")\\\n",
    ".option(\"url\", db_properties['url'])\\\n",
    ".option(\"dbtable\", db_properties['table'])\\\n",
    ".option(\"user\", db_properties['username'])\\\n",
    ".option(\"password\", db_properties['password'])\\\n",
    ".option(\"Driver\", db_properties['driver'])\\\n",
    ".save()"
   ]
  },
  {
   "cell_type": "markdown",
   "id": "f6250377",
   "metadata": {},
   "source": [
    "### 2. Data Cleaning\n"
   ]
  },
  {
   "cell_type": "markdown",
   "id": "70166c70",
   "metadata": {},
   "source": [
    "#### 2-1. renaming columns"
   ]
  },
  {
   "cell_type": "code",
   "execution_count": 63,
   "id": "7d8b5fe7",
   "metadata": {},
   "outputs": [
    {
     "name": "stdout",
     "output_type": "stream",
     "text": [
      "['gameId', 'playId', 'quarter', 'GameClock', 'down', 'yardsToGo', 'possessionTeam', 'yardlineSide', 'yardlineNumber', 'offenseFormation', 'personnel_offense', 'defendersInTheBox', 'numberOfPassRushers', 'personnel_defense', 'HomeScoreBeforePlay', 'VisitorScoreBeforePlay', 'HomeScoreAfterPlay', 'VisitorScoreAfterPlay', 'isPenalty', 'isSTPlay', 'SpecialTeamsPlayType', 'KickReturnYardage', 'PassLength', 'PassResult', 'YardsAfterCatch', 'PlayResult', 'playDescription']\n",
      "root\n",
      " |-- gameId: integer (nullable = true)\n",
      " |-- playId: integer (nullable = true)\n",
      " |-- quarter: integer (nullable = true)\n",
      " |-- GameClock: timestamp (nullable = true)\n",
      " |-- down: integer (nullable = true)\n",
      " |-- yardsToGo: integer (nullable = true)\n",
      " |-- possessionTeam: string (nullable = true)\n",
      " |-- yardlineSide: string (nullable = true)\n",
      " |-- yardlineNumber: string (nullable = true)\n",
      " |-- offenseFormation: string (nullable = true)\n",
      " |-- personnel_offense: string (nullable = true)\n",
      " |-- defendersInTheBox: string (nullable = true)\n",
      " |-- numberOfPassRushers: string (nullable = true)\n",
      " |-- personnel_defense: string (nullable = true)\n",
      " |-- HomeScoreBeforePlay: integer (nullable = true)\n",
      " |-- VisitorScoreBeforePlay: integer (nullable = true)\n",
      " |-- HomeScoreAfterPlay: integer (nullable = true)\n",
      " |-- VisitorScoreAfterPlay: integer (nullable = true)\n",
      " |-- isPenalty: boolean (nullable = true)\n",
      " |-- isSTPlay: boolean (nullable = true)\n",
      " |-- SpecialTeamsPlayType: string (nullable = true)\n",
      " |-- KickReturnYardage: string (nullable = true)\n",
      " |-- PassLength: string (nullable = true)\n",
      " |-- PassResult: string (nullable = true)\n",
      " |-- YardsAfterCatch: string (nullable = true)\n",
      " |-- PlayResult: integer (nullable = true)\n",
      " |-- playDescription: string (nullable = true)\n",
      "\n"
     ]
    }
   ],
   "source": [
    "tempList = []\n",
    "for col in df.columns:\n",
    "    new_name = col.strip()\n",
    "    new_name = \"\".join(new_name.split())\n",
    "    new_name = new_name.replace('.','_')\n",
    "    tempList.append(new_name)\n",
    "print(tempList)\n",
    "\n",
    "df = df.toDF(*tempList)\n",
    "df.printSchema()"
   ]
  },
  {
   "cell_type": "markdown",
   "id": "e952f87b",
   "metadata": {},
   "source": [
    "Remove special symbols and spaces from column names"
   ]
  },
  {
   "cell_type": "markdown",
   "id": "df9f29da",
   "metadata": {},
   "source": [
    "#### 2-2. dropping duplicate rows"
   ]
  },
  {
   "cell_type": "code",
   "execution_count": 65,
   "id": "2117cd12",
   "metadata": {},
   "outputs": [
    {
     "name": "stdout",
     "output_type": "stream",
     "text": [
      "before 14193 after 14193\n"
     ]
    }
   ],
   "source": [
    "unique_df = df.distinct()\n",
    "\n",
    "print('before', df.count(), 'after', unique_df.count())"
   ]
  },
  {
   "cell_type": "markdown",
   "id": "82e7a72e",
   "metadata": {},
   "source": [
    "Tes result shows that no duplicate rows in the data"
   ]
  },
  {
   "cell_type": "markdown",
   "id": "819c4102",
   "metadata": {},
   "source": [
    "#### 2-3. casting column data types"
   ]
  },
  {
   "cell_type": "code",
   "execution_count": 66,
   "id": "4b6f5699",
   "metadata": {},
   "outputs": [
    {
     "name": "stdout",
     "output_type": "stream",
     "text": [
      "root\n",
      " |-- gameId: integer (nullable = true)\n",
      " |-- playId: integer (nullable = true)\n",
      " |-- quarter: integer (nullable = true)\n",
      " |-- GameClock: timestamp (nullable = true)\n",
      " |-- down: integer (nullable = true)\n",
      " |-- yardsToGo: integer (nullable = true)\n",
      " |-- possessionTeam: string (nullable = true)\n",
      " |-- yardlineSide: string (nullable = true)\n",
      " |-- yardlineNumber: integer (nullable = true)\n",
      " |-- offenseFormation: string (nullable = true)\n",
      " |-- personnel_offense: string (nullable = true)\n",
      " |-- defendersInTheBox: integer (nullable = true)\n",
      " |-- numberOfPassRushers: integer (nullable = true)\n",
      " |-- personnel_defense: string (nullable = true)\n",
      " |-- HomeScoreBeforePlay: integer (nullable = true)\n",
      " |-- VisitorScoreBeforePlay: integer (nullable = true)\n",
      " |-- HomeScoreAfterPlay: integer (nullable = true)\n",
      " |-- VisitorScoreAfterPlay: integer (nullable = true)\n",
      " |-- isPenalty: boolean (nullable = true)\n",
      " |-- isSTPlay: boolean (nullable = true)\n",
      " |-- SpecialTeamsPlayType: string (nullable = true)\n",
      " |-- KickReturnYardage: integer (nullable = true)\n",
      " |-- PassLength: integer (nullable = true)\n",
      " |-- PassResult: string (nullable = true)\n",
      " |-- YardsAfterCatch: integer (nullable = true)\n",
      " |-- PlayResult: integer (nullable = true)\n",
      " |-- playDescription: string (nullable = true)\n",
      "\n"
     ]
    }
   ],
   "source": [
    "cols = [\"yardlineNumber\", \"defendersInTheBox\", \"numberOfPassRushers\", \"KickReturnYardage\", \"PassLength\", \"YardsAfterCatch\"]\n",
    "\n",
    "casted_types_df = unique_df\n",
    "for col in cols:\n",
    "    casted_types_df = casted_types_df.withColumn(col, casted_types_df[col].cast(\"integer\"))\n",
    "\n",
    "casted_types_df.printSchema()\n"
   ]
  },
  {
   "cell_type": "markdown",
   "id": "03bb5ada",
   "metadata": {},
   "source": [
    "Cast 6 column types from string to intenger"
   ]
  },
  {
   "cell_type": "markdown",
   "id": "84cf705d",
   "metadata": {},
   "source": [
    "#### 2-4. Handling Missing Values"
   ]
  },
  {
   "cell_type": "code",
   "execution_count": 148,
   "id": "a13951ad",
   "metadata": {},
   "outputs": [
    {
     "name": "stdout",
     "output_type": "stream",
     "text": [
      "-RECORD 0-----------------------\n",
      " gameId                 | 0     \n",
      " playId                 | 0     \n",
      " quarter                | 0     \n",
      " down                   | 0     \n",
      " yardsToGo              | 0     \n",
      " possessionTeam         | 0     \n",
      " yardlineSide           | 180   \n",
      " yardlineNumber         | 180   \n",
      " offenseFormation       | 2773  \n",
      " personnel_offense      | 2625  \n",
      " defendersInTheBox      | 2637  \n",
      " numberOfPassRushers    | 7483  \n",
      " personnel_defense      | 2625  \n",
      " HomeScoreBeforePlay    | 0     \n",
      " VisitorScoreBeforePlay | 0     \n",
      " HomeScoreAfterPlay     | 0     \n",
      " VisitorScoreAfterPlay  | 0     \n",
      " SpecialTeamsPlayType   | 11557 \n",
      " KickReturnYardage      | 13489 \n",
      " PassLength             | 7932  \n",
      " PassResult             | 7230  \n",
      " YardsAfterCatch        | 10256 \n",
      " PlayResult             | 0     \n",
      " playDescription        | 417   \n",
      "\n"
     ]
    }
   ],
   "source": [
    "from pyspark.sql.functions import *\n",
    "\n",
    "cols = [c for c in casted_types_df.columns if c not in [\"GameClock\", \"isPenalty\", \"isSTPlay\"]]\n",
    "\n",
    "null_counts_casted_types_df = casted_types_df.select([count(when(isnan(c) | col(c).isNull() | col(c).contains('NA'), c)).alias(c) \\\n",
    "                        for c in cols])\n",
    "\n",
    "null_counts_casted_types_df.show(truncate=False, vertical=True)"
   ]
  },
  {
   "cell_type": "code",
   "execution_count": 149,
   "id": "dd08afe9",
   "metadata": {},
   "outputs": [
    {
     "name": "stdout",
     "output_type": "stream",
     "text": [
      "root\n",
      " |-- gameId: integer (nullable = true)\n",
      " |-- playId: integer (nullable = true)\n",
      " |-- quarter: integer (nullable = true)\n",
      " |-- GameClock: timestamp (nullable = true)\n",
      " |-- down: integer (nullable = true)\n",
      " |-- yardsToGo: integer (nullable = true)\n",
      " |-- possessionTeam: string (nullable = true)\n",
      " |-- yardlineSide: string (nullable = true)\n",
      " |-- yardlineNumber: integer (nullable = true)\n",
      " |-- offenseFormation: string (nullable = true)\n",
      " |-- personnel_offense: string (nullable = true)\n",
      " |-- defendersInTheBox: integer (nullable = true)\n",
      " |-- personnel_defense: string (nullable = true)\n",
      " |-- HomeScoreBeforePlay: integer (nullable = true)\n",
      " |-- VisitorScoreBeforePlay: integer (nullable = true)\n",
      " |-- HomeScoreAfterPlay: integer (nullable = true)\n",
      " |-- VisitorScoreAfterPlay: integer (nullable = true)\n",
      " |-- isPenalty: boolean (nullable = true)\n",
      " |-- isSTPlay: boolean (nullable = true)\n",
      " |-- PlayResult: integer (nullable = true)\n",
      " |-- playDescription: string (nullable = true)\n",
      "\n",
      "before 27 after 21\n"
     ]
    }
   ],
   "source": [
    "compact_df = casted_types_df.drop(\"SpecialTeamsPlayType\", \"numberOfPassRushers\", \"KickReturnYardage\", \"PassLength\", \"PassResult\",\n",
    "                                  \"YardsAfterCatch\")\n",
    "\n",
    "compact_df.printSchema()\n",
    "\n",
    "print(\"before\", len(casted_types_df.columns), \"after\", len(compact_df.columns))"
   ]
  },
  {
   "cell_type": "markdown",
   "id": "18f0a9be",
   "metadata": {},
   "source": [
    "Drop 4 columns with more than 50% of null values"
   ]
  },
  {
   "cell_type": "code",
   "execution_count": 150,
   "id": "caf3bbc8",
   "metadata": {},
   "outputs": [
    {
     "name": "stderr",
     "output_type": "stream",
     "text": [
      "/usr/local/lib/python3.10/site-packages/pyspark/sql/pandas/conversion.py:248: FutureWarning: Passing unit-less datetime64 dtype to .astype is deprecated and will raise in a future version. Pass 'datetime64[ns]' instead\n",
      "  series = series.astype(t, copy=False)\n"
     ]
    },
    {
     "data": {
      "text/plain": [
       "6.0     4435\n",
       "7.0     3554\n",
       "8.0     1568\n",
       "5.0     1291\n",
       "4.0      391\n",
       "9.0      194\n",
       "10.0      50\n",
       "11.0      38\n",
       "3.0       33\n",
       "2.0        2\n",
       "Name: defendersInTheBox, dtype: int64"
      ]
     },
     "execution_count": 150,
     "metadata": {},
     "output_type": "execute_result"
    }
   ],
   "source": [
    "compact_df.toPandas()['defendersInTheBox'].value_counts()"
   ]
  },
  {
   "cell_type": "code",
   "execution_count": 151,
   "id": "fd48f2d7",
   "metadata": {},
   "outputs": [
    {
     "name": "stderr",
     "output_type": "stream",
     "text": [
      "/usr/local/lib/python3.10/site-packages/pyspark/sql/pandas/conversion.py:248: FutureWarning: Passing unit-less datetime64 dtype to .astype is deprecated and will raise in a future version. Pass 'datetime64[ns]' instead\n",
      "  series = series.astype(t, copy=False)\n"
     ]
    },
    {
     "data": {
      "text/plain": [
       "6     7072\n",
       "7     3554\n",
       "8     1568\n",
       "5     1291\n",
       "4      391\n",
       "9      194\n",
       "10      50\n",
       "11      38\n",
       "3       33\n",
       "2        2\n",
       "Name: defendersInTheBox, dtype: int64"
      ]
     },
     "execution_count": 151,
     "metadata": {},
     "output_type": "execute_result"
    }
   ],
   "source": [
    "fillna_df = compact_df.fillna(6.0, subset=[\"defendersInTheBox\"])\n",
    "\n",
    "fillna_df.toPandas()['defendersInTheBox'].value_counts()"
   ]
  },
  {
   "cell_type": "markdown",
   "id": "9540a700",
   "metadata": {},
   "source": [
    "fill na in defendersInTheBox by the mode (because defendersInTheBox should be integer, can't fill by average)"
   ]
  },
  {
   "cell_type": "code",
   "execution_count": 206,
   "id": "d034e9b3",
   "metadata": {},
   "outputs": [
    {
     "name": "stdout",
     "output_type": "stream",
     "text": [
      "before 14193 after 14013\n",
      "drop rate 1 %\n"
     ]
    }
   ],
   "source": [
    "from pyspark.sql.functions import col\n",
    "\n",
    "fillna_df_with_na_dropped_rows = fillna_df.na.drop()\n",
    "\n",
    "#fillna_df_with_na_dropped_rows = \\\n",
    "#    fillna_df_with_na_dropped_rows.filter((df.yardlineSide != 'NA') & (df.offenseFormation != 'NA') & \\\n",
    "#                                          (df.personnel_offense != 'NA') & (df.personnel_defense != 'NA'))\n",
    "\n",
    "print('before', fillna_df.count(), 'after', fillna_df_with_na_dropped_rows.count())\n",
    "print('drop rate', int((fillna_df.count()-fillna_df_with_na_dropped_rows.count())/fillna_df.count()*100), '%')"
   ]
  },
  {
   "cell_type": "markdown",
   "id": "49c4bc30",
   "metadata": {},
   "source": [
    "drop all rows with null value(s) (which is hard to fill)"
   ]
  },
  {
   "cell_type": "markdown",
   "id": "8323108a",
   "metadata": {},
   "source": [
    "### 3. Feature Engineering"
   ]
  },
  {
   "cell_type": "markdown",
   "id": "07d9d58a",
   "metadata": {},
   "source": [
    "#### 3.1. Classify type of variables"
   ]
  },
  {
   "cell_type": "code",
   "execution_count": 207,
   "id": "7b272790",
   "metadata": {},
   "outputs": [
    {
     "name": "stdout",
     "output_type": "stream",
     "text": [
      "root\n",
      " |-- gameId: integer (nullable = true)\n",
      " |-- playId: integer (nullable = true)\n",
      " |-- quarter: integer (nullable = true)\n",
      " |-- GameClock: timestamp (nullable = true)\n",
      " |-- down: integer (nullable = true)\n",
      " |-- yardsToGo: integer (nullable = true)\n",
      " |-- possessionTeam: string (nullable = true)\n",
      " |-- yardlineSide: string (nullable = true)\n",
      " |-- yardlineNumber: integer (nullable = true)\n",
      " |-- offenseFormation: string (nullable = true)\n",
      " |-- personnel_offense: string (nullable = true)\n",
      " |-- defendersInTheBox: integer (nullable = true)\n",
      " |-- personnel_defense: string (nullable = true)\n",
      " |-- HomeScoreBeforePlay: integer (nullable = true)\n",
      " |-- VisitorScoreBeforePlay: integer (nullable = true)\n",
      " |-- HomeScoreAfterPlay: integer (nullable = true)\n",
      " |-- VisitorScoreAfterPlay: integer (nullable = true)\n",
      " |-- isPenalty: boolean (nullable = true)\n",
      " |-- isSTPlay: boolean (nullable = true)\n",
      " |-- PlayResult: integer (nullable = true)\n",
      " |-- playDescription: string (nullable = true)\n",
      "\n"
     ]
    }
   ],
   "source": [
    "fillna_df_with_na_dropped_rows.printSchema()"
   ]
  },
  {
   "cell_type": "markdown",
   "id": "efde0a0e",
   "metadata": {},
   "source": [
    "[Continuous Variables]: yardsToGo, yardlineNumber, numberOfPassRushers, HomeScoreBeforePlay, VisitorScoreBeforePlay....\n",
    "\n",
    "[Categorical Variables]:\n",
    "* Binary Variables: isPenalty, isSTPlay...\n",
    "* Ordinal Variables: quarter, down, defendersInTheBox, GameClock ... \n",
    "* Nominal Variables: offenseFormation, possessionTeam, yardlineSide, personnel_offense, personnel_offense, PassResult..."
   ]
  },
  {
   "cell_type": "code",
   "execution_count": 208,
   "id": "34f09b7f",
   "metadata": {},
   "outputs": [
    {
     "data": {
      "text/plain": [
       "['quarter',\n",
       " 'down',\n",
       " 'yardsToGo',\n",
       " 'possessionTeam',\n",
       " 'yardlineSide',\n",
       " 'yardlineNumber',\n",
       " 'offenseFormation',\n",
       " 'personnel_offense',\n",
       " 'defendersInTheBox',\n",
       " 'personnel_defense',\n",
       " 'HomeScoreBeforePlay',\n",
       " 'VisitorScoreBeforePlay',\n",
       " 'HomeScoreAfterPlay',\n",
       " 'VisitorScoreAfterPlay',\n",
       " 'isPenalty',\n",
       " 'isSTPlay',\n",
       " 'PlayResult']"
      ]
     },
     "execution_count": 208,
     "metadata": {},
     "output_type": "execute_result"
    }
   ],
   "source": [
    "fillna_df_with_na_dropped_rows = fillna_df_with_na_dropped_rows.drop('gameId', 'playId','GameClock', 'playDescription')\n",
    "\n",
    "fillna_df_with_na_dropped_rows.columns"
   ]
  },
  {
   "cell_type": "markdown",
   "id": "537522eb",
   "metadata": {},
   "source": [
    "#### 3.2  using IQR to spot Outliers"
   ]
  },
  {
   "cell_type": "code",
   "execution_count": 209,
   "id": "175de43b",
   "metadata": {},
   "outputs": [
    {
     "name": "stderr",
     "output_type": "stream",
     "text": [
      "[Stage 1189:============================>                           (1 + 1) / 2]\r"
     ]
    },
    {
     "name": "stdout",
     "output_type": "stream",
     "text": [
      "-RECORD 0--------------------------------------------------\n",
      " summary                | count                            \n",
      " quarter                | 14013                            \n",
      " down                   | 14013                            \n",
      " yardsToGo              | 14013                            \n",
      " possessionTeam         | 14013                            \n",
      " yardlineSide           | 14013                            \n",
      " yardlineNumber         | 14013                            \n",
      " offenseFormation       | 14013                            \n",
      " personnel_offense      | 14013                            \n",
      " defendersInTheBox      | 14013                            \n",
      " personnel_defense      | 14013                            \n",
      " HomeScoreBeforePlay    | 14013                            \n",
      " VisitorScoreBeforePlay | 14013                            \n",
      " HomeScoreAfterPlay     | 14013                            \n",
      " VisitorScoreAfterPlay  | 14013                            \n",
      " PlayResult             | 14013                            \n",
      "-RECORD 1--------------------------------------------------\n",
      " summary                | mean                             \n",
      " quarter                | 2.560622279312067                \n",
      " down                   | 1.8138157425247985               \n",
      " yardsToGo              | 7.847784200385356                \n",
      " possessionTeam         | null                             \n",
      " yardlineSide           | null                             \n",
      " yardlineNumber         | 28.633340469563976               \n",
      " offenseFormation       | null                             \n",
      " personnel_offense      | null                             \n",
      " defendersInTheBox      | 6.388567758509955                \n",
      " personnel_defense      | null                             \n",
      " HomeScoreBeforePlay    | 11.46799400556626                \n",
      " VisitorScoreBeforePlay | 9.915721116106473                \n",
      " HomeScoreAfterPlay     | 11.616998501391565               \n",
      " VisitorScoreAfterPlay  | 10.055305787483052               \n",
      " PlayResult             | 9.351316634553628                \n",
      "-RECORD 2--------------------------------------------------\n",
      " summary                | stddev                           \n",
      " quarter                | 1.1290468297512604               \n",
      " down                   | 1.1336988135003805               \n",
      " yardsToGo              | 4.708095836675782                \n",
      " possessionTeam         | null                             \n",
      " yardlineSide           | null                             \n",
      " yardlineNumber         | 12.368636330183232               \n",
      " offenseFormation       | null                             \n",
      " personnel_offense      | null                             \n",
      " defendersInTheBox      | 1.0059503439101178               \n",
      " personnel_defense      | null                             \n",
      " HomeScoreBeforePlay    | 10.236473550922822               \n",
      " VisitorScoreBeforePlay | 9.223326908005358                \n",
      " HomeScoreAfterPlay     | 10.27587433831568                \n",
      " VisitorScoreAfterPlay  | 9.262761671527635                \n",
      " PlayResult             | 15.028390366246532               \n",
      "-RECORD 3--------------------------------------------------\n",
      " summary                | min                              \n",
      " quarter                | 1                                \n",
      " down                   | 0                                \n",
      " yardsToGo              | 0                                \n",
      " possessionTeam         | ARI                              \n",
      " yardlineSide           | ARI                              \n",
      " yardlineNumber         | 1                                \n",
      " offenseFormation       | ACE                              \n",
      " personnel_offense      | 0 RB, 0 TE, 5 WR                 \n",
      " defendersInTheBox      | 2                                \n",
      " personnel_defense      | 0 DL, 2 LB, 5 DB, 2 RB,1 TE,1 WR \n",
      " HomeScoreBeforePlay    | 0                                \n",
      " VisitorScoreBeforePlay | 0                                \n",
      " HomeScoreAfterPlay     | 0                                \n",
      " VisitorScoreAfterPlay  | 0                                \n",
      " PlayResult             | -86                              \n",
      "-RECORD 4--------------------------------------------------\n",
      " summary                | 25%                              \n",
      " quarter                | 2                                \n",
      " down                   | 1                                \n",
      " yardsToGo              | 4                                \n",
      " possessionTeam         | null                             \n",
      " yardlineSide           | null                             \n",
      " yardlineNumber         | 20                               \n",
      " offenseFormation       | null                             \n",
      " personnel_offense      | null                             \n",
      " defendersInTheBox      | 6                                \n",
      " personnel_defense      | null                             \n",
      " HomeScoreBeforePlay    | 3                                \n",
      " VisitorScoreBeforePlay | 0                                \n",
      " HomeScoreAfterPlay     | 3                                \n",
      " VisitorScoreAfterPlay  | 0                                \n",
      " PlayResult             | 0                                \n",
      "-RECORD 5--------------------------------------------------\n",
      " summary                | 50%                              \n",
      " quarter                | 3                                \n",
      " down                   | 2                                \n",
      " yardsToGo              | 10                               \n",
      " possessionTeam         | null                             \n",
      " yardlineSide           | null                             \n",
      " yardlineNumber         | 30                               \n",
      " offenseFormation       | null                             \n",
      " personnel_offense      | null                             \n",
      " defendersInTheBox      | 6                                \n",
      " personnel_defense      | null                             \n",
      " HomeScoreBeforePlay    | 10                               \n",
      " VisitorScoreBeforePlay | 7                                \n",
      " HomeScoreAfterPlay     | 10                               \n",
      " VisitorScoreAfterPlay  | 8                                \n",
      " PlayResult             | 4                                \n",
      "-RECORD 6--------------------------------------------------\n",
      " summary                | 75%                              \n",
      " quarter                | 4                                \n",
      " down                   | 3                                \n",
      " yardsToGo              | 10                               \n",
      " possessionTeam         | null                             \n",
      " yardlineSide           | null                             \n",
      " yardlineNumber         | 38                               \n",
      " offenseFormation       | null                             \n",
      " personnel_offense      | null                             \n",
      " defendersInTheBox      | 7                                \n",
      " personnel_defense      | null                             \n",
      " HomeScoreBeforePlay    | 17                               \n",
      " VisitorScoreBeforePlay | 17                               \n",
      " HomeScoreAfterPlay     | 17                               \n",
      " VisitorScoreAfterPlay  | 17                               \n",
      " PlayResult             | 11                               \n",
      "-RECORD 7--------------------------------------------------\n",
      " summary                | max                              \n",
      " quarter                | 5                                \n",
      " down                   | 4                                \n",
      " yardsToGo              | 40                               \n",
      " possessionTeam         | WAS                              \n",
      " yardlineSide           | WAS                              \n",
      " yardlineNumber         | 49                               \n",
      " offenseFormation       | WILDCAT                          \n",
      " personnel_offense      | NA                               \n",
      " defendersInTheBox      | 11                               \n",
      " personnel_defense      | NA                               \n",
      " HomeScoreBeforePlay    | 57                               \n",
      " VisitorScoreBeforePlay | 42                               \n",
      " HomeScoreAfterPlay     | 57                               \n",
      " VisitorScoreAfterPlay  | 42                               \n",
      " PlayResult             | 90                               \n",
      "\n"
     ]
    },
    {
     "name": "stderr",
     "output_type": "stream",
     "text": [
      "\r",
      "                                                                                \r"
     ]
    }
   ],
   "source": [
    "fillna_df_with_na_dropped_rows.summary().show(truncate=False, vertical=True)"
   ]
  },
  {
   "cell_type": "code",
   "execution_count": 210,
   "id": "2825aed2",
   "metadata": {},
   "outputs": [
    {
     "data": {
      "text/plain": [
       "['yardsToGo',\n",
       " 'yardlineNumber',\n",
       " 'defendersInTheBox',\n",
       " 'HomeScoreBeforePlay',\n",
       " 'VisitorScoreBeforePlay',\n",
       " 'HomeScoreAfterPlay',\n",
       " 'VisitorScoreAfterPlay',\n",
       " 'PlayResult']"
      ]
     },
     "execution_count": 210,
     "metadata": {},
     "output_type": "execute_result"
    }
   ],
   "source": [
    "numeric_features = [feature[0] for feature in fillna_df_with_na_dropped_rows.dtypes if feature[1] in ('int','double')]\n",
    "numeric_features = [f for f in numeric_features if f not in [\"gameId\", \"playId\", \"quarter\", 'down']]\n",
    "\n",
    "numeric_features"
   ]
  },
  {
   "cell_type": "code",
   "execution_count": 211,
   "id": "5ea29731",
   "metadata": {},
   "outputs": [
    {
     "data": {
      "image/png": "[encoded data removed]",
      "text/plain": [
       "<Figure size 640x480 with 1 Axes>"
      ]
     },
     "metadata": {},
     "output_type": "display_data"
    }
   ],
   "source": [
    "import matplotlib.pyplot as plt\n",
    "\n",
    "converted_data = fillna_df_with_na_dropped_rows[numeric_features].toPandas()\n",
    "\n",
    "figure = plt.boxplot(converted_data, labels=numeric_features, vert=False)"
   ]
  },
  {
   "cell_type": "code",
   "execution_count": 212,
   "id": "9e5ce720",
   "metadata": {},
   "outputs": [
    {
     "name": "stdout",
     "output_type": "stream",
     "text": [
      "-RECORD 0----------------------------------\n",
      " quarter                | 2                \n",
      " down                   | 1                \n",
      " yardsToGo              | 10               \n",
      " possessionTeam         | DET              \n",
      " yardlineSide           | ARI              \n",
      " yardlineNumber         | 19               \n",
      " offenseFormation       | SHOTGUN          \n",
      " personnel_offense      | 1 RB, 1 TE, 3 WR \n",
      " defendersInTheBox      | 6                \n",
      " personnel_defense      | 2 DL, 4 LB, 5 DB \n",
      " HomeScoreBeforePlay    | 0                \n",
      " VisitorScoreBeforePlay | 10               \n",
      " HomeScoreAfterPlay     | 0                \n",
      " VisitorScoreAfterPlay  | 10               \n",
      " isPenalty              | false            \n",
      " isSTPlay               | false            \n",
      " PlayResult             | 6                \n",
      " total_outliers         | 0                \n",
      "only showing top 1 row\n",
      "\n"
     ]
    }
   ],
   "source": [
    "from functools import reduce\n",
    "\n",
    "def column_add(a,b):\n",
    "     return  a.__add__(b)\n",
    "    \n",
    "def find_outliers(df):\n",
    "    # Identifying the numerical columns in a spark dataframe\n",
    "    numeric_columns = [column[0] for column in df.dtypes if column[1] in ('int','double')]\n",
    "    numeric_columns = [f for f in numeric_columns if f not in [\"gameId\", \"playId\", \"quarter\", 'down']]\n",
    "\n",
    "    # Using the `for` loop to create new columns by identifying the outliers for each feature\n",
    "    for column in numeric_columns:\n",
    "\n",
    "        less_Q1 = 'less_Q1_{}'.format(column)\n",
    "        more_Q3 = 'more_Q3_{}'.format(column)\n",
    "        Q1 = 'Q1_{}'.format(column)\n",
    "        Q3 = 'Q3_{}'.format(column)\n",
    "\n",
    "        # Q1 : First Quartile ., Q3 : Third Quartile\n",
    "        Q1 = df.approxQuantile(column,[0.25],relativeError=0)\n",
    "        Q3 = df.approxQuantile(column,[0.75],relativeError=0)\n",
    "        \n",
    "        # IQR : Inter Quantile Range\n",
    "        # We need to define the index [0], as Q1 & Q3 are a set of lists., to perform a mathematical operation\n",
    "        # Q1 & Q3 are defined seperately so as to have a clear indication on First Quantile & 3rd Quantile\n",
    "        IQR = Q3[0] - Q1[0]\n",
    "        \n",
    "        #selecting the data, with -1.5*IQR to + 1.5*IQR., where param = 1.5 default value\n",
    "        less_Q1 =  Q1[0] - 1.5*IQR\n",
    "        more_Q3 =  Q3[0] + 1.5*IQR\n",
    "        \n",
    "        isOutlierCol = 'is_outlier_{}'.format(column)\n",
    "        \n",
    "        df = df.withColumn(isOutlierCol,when((df[column] > more_Q3) | (df[column] < less_Q1), 1).otherwise(0))\n",
    "    \n",
    "\n",
    "    # Selecting the specific columns which we have added above, to check if there are any outliers\n",
    "    selected_columns = [column for column in df.columns if column.startswith(\"is_outlier\")]\n",
    "    # Adding all the outlier columns into a new colum \"total_outliers\", to see the total number of outliers\n",
    "    df = df.withColumn('total_outliers',reduce(column_add, ( df[col] for col in  selected_columns)))\n",
    "\n",
    "    # Dropping the extra columns created above, just to create nice dataframe., without extra columns\n",
    "    df = df.drop(*[column for column in df.columns if column.startswith(\"is_outlier\")])\n",
    "\n",
    "    return df\n",
    "\n",
    "df_with_outlier_handling = find_outliers(fillna_df_with_na_dropped_rows)\n",
    "\n",
    "df_with_outlier_handling.show(1, vertical=True)\n"
   ]
  },
  {
   "cell_type": "code",
   "execution_count": 213,
   "id": "710662a8",
   "metadata": {},
   "outputs": [
    {
     "name": "stdout",
     "output_type": "stream",
     "text": [
      "+--------------+-----+\n",
      "|total_outliers|count|\n",
      "+--------------+-----+\n",
      "|             1| 2731|\n",
      "|             3|   41|\n",
      "|             4|    4|\n",
      "|             2|  282|\n",
      "|             0|10955|\n",
      "+--------------+-----+\n",
      "\n"
     ]
    }
   ],
   "source": [
    "df_with_outlier_handling.groupby(\"total_outliers\").count().show()"
   ]
  },
  {
   "cell_type": "code",
   "execution_count": 214,
   "id": "d81eea9c",
   "metadata": {},
   "outputs": [
    {
     "name": "stdout",
     "output_type": "stream",
     "text": [
      "before 14013\n",
      "after 13686\n"
     ]
    }
   ],
   "source": [
    "df_with_substituted_na_and_outliers = df_with_outlier_handling.filter(col('total_Outliers')<=1)\n",
    "\n",
    "df_with_substituted_na_and_outliers.toPandas().count()\n",
    "print('before', df_with_outlier_handling.count())\n",
    "print('after', df_with_substituted_na_and_outliers.count())"
   ]
  },
  {
   "cell_type": "markdown",
   "id": "8eafb207",
   "metadata": {},
   "source": [
    "drop all rows with outlier(s) more than 1 (only 2.33% which is acceptable)"
   ]
  },
  {
   "cell_type": "markdown",
   "id": "9ea7d6f2",
   "metadata": {},
   "source": [
    "#### 3-3. drop highly correlated features"
   ]
  },
  {
   "cell_type": "code",
   "execution_count": 215,
   "id": "2cbaef6c",
   "metadata": {},
   "outputs": [
    {
     "name": "stdout",
     "output_type": "stream",
     "text": [
      "                         quarter      down  yardsToGo  yardlineNumber  \\\n",
      "quarter                 1.000000  0.011077   0.006713       -0.007285   \n",
      "down                    0.011077  1.000000   0.105337        0.004951   \n",
      "yardsToGo               0.006713  0.105337   1.000000        0.062179   \n",
      "yardlineNumber         -0.007285  0.004951   0.062179        1.000000   \n",
      "defendersInTheBox      -0.032588 -0.148782  -0.077004       -0.124922   \n",
      "HomeScoreBeforePlay     0.633048 -0.040857  -0.040363       -0.000377   \n",
      "VisitorScoreBeforePlay  0.691844 -0.034621  -0.030570        0.003497   \n",
      "HomeScoreAfterPlay      0.630357 -0.035776  -0.047815       -0.017437   \n",
      "VisitorScoreAfterPlay   0.690784 -0.028283  -0.036857       -0.012171   \n",
      "isPenalty               0.003524  0.095832  -0.000609       -0.001801   \n",
      "isSTPlay               -0.018978  0.044047  -0.408440       -0.010347   \n",
      "PlayResult             -0.025973  0.027253  -0.210102        0.161731   \n",
      "total_outliers          0.026098  0.047078  -0.120801        0.088276   \n",
      "\n",
      "                        defendersInTheBox  HomeScoreBeforePlay  \\\n",
      "quarter                         -0.032588             0.633048   \n",
      "down                            -0.148782            -0.040857   \n",
      "yardsToGo                       -0.077004            -0.040363   \n",
      "yardlineNumber                  -0.124922            -0.000377   \n",
      "defendersInTheBox                1.000000            -0.043203   \n",
      "HomeScoreBeforePlay             -0.043203             1.000000   \n",
      "VisitorScoreBeforePlay          -0.026725             0.425593   \n",
      "HomeScoreAfterPlay              -0.038370             0.996116   \n",
      "VisitorScoreAfterPlay           -0.022503             0.425337   \n",
      "isPenalty                       -0.033688             0.007836   \n",
      "isSTPlay                        -0.188861             0.020194   \n",
      "PlayResult                      -0.146347            -0.001264   \n",
      "total_outliers                  -0.140748             0.030724   \n",
      "\n",
      "                        VisitorScoreBeforePlay  HomeScoreAfterPlay  \\\n",
      "quarter                               0.691844            0.630357   \n",
      "down                                 -0.034621           -0.035776   \n",
      "yardsToGo                            -0.030570           -0.047815   \n",
      "yardlineNumber                        0.003497           -0.017437   \n",
      "defendersInTheBox                    -0.026725           -0.038370   \n",
      "HomeScoreBeforePlay                   0.425593            0.996116   \n",
      "VisitorScoreBeforePlay                1.000000            0.424036   \n",
      "HomeScoreAfterPlay                    0.424036            1.000000   \n",
      "VisitorScoreAfterPlay                 0.996206            0.423543   \n",
      "isPenalty                            -0.004297            0.008273   \n",
      "isSTPlay                              0.019684            0.025945   \n",
      "PlayResult                           -0.006972           -0.001241   \n",
      "total_outliers                        0.036359            0.031702   \n",
      "\n",
      "                        VisitorScoreAfterPlay  isPenalty  isSTPlay  \\\n",
      "quarter                              0.690784   0.003524 -0.018978   \n",
      "down                                -0.028283   0.095832  0.044047   \n",
      "yardsToGo                           -0.036857  -0.000609 -0.408440   \n",
      "yardlineNumber                      -0.012171  -0.001801 -0.010347   \n",
      "defendersInTheBox                   -0.022503  -0.033688 -0.188861   \n",
      "HomeScoreBeforePlay                  0.425337   0.007836  0.020194   \n",
      "VisitorScoreBeforePlay               0.996206  -0.004297  0.019684   \n",
      "HomeScoreAfterPlay                   0.423543   0.008273  0.025945   \n",
      "VisitorScoreAfterPlay                1.000000  -0.003529  0.026972   \n",
      "isPenalty                           -0.003529   1.000000  0.114737   \n",
      "isSTPlay                             0.026972   0.114737  1.000000   \n",
      "PlayResult                          -0.008753   0.113174  0.575651   \n",
      "total_outliers                       0.037098   0.085986  0.518831   \n",
      "\n",
      "                        PlayResult  total_outliers  \n",
      "quarter                  -0.025973        0.026098  \n",
      "down                      0.027253        0.047078  \n",
      "yardsToGo                -0.210102       -0.120801  \n",
      "yardlineNumber            0.161731        0.088276  \n",
      "defendersInTheBox        -0.146347       -0.140748  \n",
      "HomeScoreBeforePlay      -0.001264        0.030724  \n",
      "VisitorScoreBeforePlay   -0.006972        0.036359  \n",
      "HomeScoreAfterPlay       -0.001241        0.031702  \n",
      "VisitorScoreAfterPlay    -0.008753        0.037098  \n",
      "isPenalty                 0.113174        0.085986  \n",
      "isSTPlay                  0.575651        0.518831  \n",
      "PlayResult                1.000000        0.685893  \n",
      "total_outliers            0.685893        1.000000  \n"
     ]
    },
    {
     "name": "stderr",
     "output_type": "stream",
     "text": [
      "/var/folders/rs/d4b8bh7j2x52l_21_42s43sm0000gn/T/ipykernel_84753/1692095180.py:1: FutureWarning: The default value of numeric_only in DataFrame.corr is deprecated. In a future version, it will default to False. Select only valid columns or specify the value of numeric_only to silence this warning.\n",
      "  correlation_matrix = df_with_substituted_na_and_outliers.toPandas().corr()\n"
     ]
    }
   ],
   "source": [
    "correlation_matrix = df_with_substituted_na_and_outliers.toPandas().corr()\n",
    "print(correlation_matrix)"
   ]
  },
  {
   "cell_type": "code",
   "execution_count": 216,
   "id": "69fdb553",
   "metadata": {},
   "outputs": [
    {
     "data": {
      "text/plain": [
       "['quarter',\n",
       " 'down',\n",
       " 'yardsToGo',\n",
       " 'possessionTeam',\n",
       " 'yardlineSide',\n",
       " 'yardlineNumber',\n",
       " 'offenseFormation',\n",
       " 'personnel_offense',\n",
       " 'defendersInTheBox',\n",
       " 'personnel_defense',\n",
       " 'HomeScoreAfterPlay',\n",
       " 'VisitorScoreAfterPlay',\n",
       " 'isPenalty',\n",
       " 'isSTPlay',\n",
       " 'PlayResult',\n",
       " 'total_outliers']"
      ]
     },
     "execution_count": 216,
     "metadata": {},
     "output_type": "execute_result"
    }
   ],
   "source": [
    "df_with_handled_correlations = df_with_substituted_na_and_outliers\\\n",
    "                .drop(\"HomeScoreBeforePlay\",\"VisitorScoreBeforePlay\")\n",
    "\n",
    "df_with_handled_correlations.columns"
   ]
  },
  {
   "cell_type": "markdown",
   "id": "578481d3",
   "metadata": {},
   "source": [
    "#### 3-4. Handle Binary Variables (by casting them)"
   ]
  },
  {
   "cell_type": "code",
   "execution_count": 217,
   "id": "ecd89ed1",
   "metadata": {},
   "outputs": [
    {
     "name": "stdout",
     "output_type": "stream",
     "text": [
      "+---------+-----------------+\n",
      "|isPenalty|isPenalty_encoded|\n",
      "+---------+-----------------+\n",
      "|     true|                1|\n",
      "|    false|                0|\n",
      "+---------+-----------------+\n",
      "\n",
      "+--------+----------------+\n",
      "|isSTPlay|isSTPlay_encoded|\n",
      "+--------+----------------+\n",
      "|    true|               1|\n",
      "|   false|               0|\n",
      "+--------+----------------+\n",
      "\n"
     ]
    }
   ],
   "source": [
    "df_with_handled_binary = (df_with_handled_correlations\n",
    "              .withColumn(\"isPenalty_encoded\", \\\n",
    "                          df_with_handled_correlations[\"isPenalty\"].cast(\"integer\")))\n",
    "\n",
    "df_with_handled_binary = (df_with_handled_binary\n",
    "              .withColumn(\"isSTPlay_encoded\", \\\n",
    "                          df_with_handled_binary[\"isSTPlay\"].cast(\"integer\")))\n",
    "\n",
    "df_with_handled_binary.select(\"isPenalty\",\"isPenalty_encoded\").distinct().show()\n",
    "df_with_handled_binary.select(\"isSTPlay\", \"isSTPlay_encoded\").distinct().show()"
   ]
  },
  {
   "cell_type": "code",
   "execution_count": 218,
   "id": "b7b4f590",
   "metadata": {},
   "outputs": [
    {
     "data": {
      "text/plain": [
       "['quarter',\n",
       " 'down',\n",
       " 'yardsToGo',\n",
       " 'possessionTeam',\n",
       " 'yardlineSide',\n",
       " 'yardlineNumber',\n",
       " 'offenseFormation',\n",
       " 'personnel_offense',\n",
       " 'defendersInTheBox',\n",
       " 'personnel_defense',\n",
       " 'HomeScoreAfterPlay',\n",
       " 'VisitorScoreAfterPlay',\n",
       " 'PlayResult',\n",
       " 'total_outliers',\n",
       " 'isPenalty_encoded',\n",
       " 'isSTPlay_encoded']"
      ]
     },
     "execution_count": 218,
     "metadata": {},
     "output_type": "execute_result"
    }
   ],
   "source": [
    "df_with_handled_binary = df_with_handled_binary.drop(\"isPenalty\", \"isSTPlay\")\n",
    "\n",
    "df_with_handled_binary.columns"
   ]
  },
  {
   "cell_type": "markdown",
   "id": "93371560",
   "metadata": {},
   "source": [
    "#### 3-5. Handling Ordinal and Nominal Variables"
   ]
  },
  {
   "cell_type": "markdown",
   "id": "ffb1d109",
   "metadata": {},
   "source": [
    "Nominal Variables:offenseFormation, possessionTeam, yardlineSide, personnel_offense, personnel_defense, PassResult"
   ]
  },
  {
   "cell_type": "code",
   "execution_count": 228,
   "id": "5a90a804",
   "metadata": {},
   "outputs": [
    {
     "name": "stdout",
     "output_type": "stream",
     "text": [
      "9\n"
     ]
    },
    {
     "data": {
      "text/html": [
       "<div>\n",
       "<style scoped>\n",
       "    .dataframe tbody tr th:only-of-type {\n",
       "        vertical-align: middle;\n",
       "    }\n",
       "\n",
       "    .dataframe tbody tr th {\n",
       "        vertical-align: top;\n",
       "    }\n",
       "\n",
       "    .dataframe thead th {\n",
       "        text-align: right;\n",
       "    }\n",
       "</style>\n",
       "<table border=\"1\" class=\"dataframe\">\n",
       "  <thead>\n",
       "    <tr style=\"text-align: right;\">\n",
       "      <th></th>\n",
       "      <th>offenseFormation</th>\n",
       "      <th>offenseFormation_index</th>\n",
       "      <th>offenseFormation_encoded</th>\n",
       "    </tr>\n",
       "  </thead>\n",
       "  <tbody>\n",
       "    <tr>\n",
       "      <th>0</th>\n",
       "      <td>PISTOL</td>\n",
       "      <td>5.0</td>\n",
       "      <td>(0.0, 0.0, 0.0, 0.0, 0.0, 1.0, 0.0, 0.0)</td>\n",
       "    </tr>\n",
       "    <tr>\n",
       "      <th>1</th>\n",
       "      <td>SINGLEBACK</td>\n",
       "      <td>1.0</td>\n",
       "      <td>(0.0, 1.0, 0.0, 0.0, 0.0, 0.0, 0.0, 0.0)</td>\n",
       "    </tr>\n",
       "    <tr>\n",
       "      <th>2</th>\n",
       "      <td>SHOTGUN</td>\n",
       "      <td>0.0</td>\n",
       "      <td>(1.0, 0.0, 0.0, 0.0, 0.0, 0.0, 0.0, 0.0)</td>\n",
       "    </tr>\n",
       "    <tr>\n",
       "      <th>3</th>\n",
       "      <td>WILDCAT</td>\n",
       "      <td>7.0</td>\n",
       "      <td>(0.0, 0.0, 0.0, 0.0, 0.0, 0.0, 0.0, 1.0)</td>\n",
       "    </tr>\n",
       "    <tr>\n",
       "      <th>4</th>\n",
       "      <td>JUMBO</td>\n",
       "      <td>6.0</td>\n",
       "      <td>(0.0, 0.0, 0.0, 0.0, 0.0, 0.0, 1.0, 0.0)</td>\n",
       "    </tr>\n",
       "    <tr>\n",
       "      <th>5</th>\n",
       "      <td>EMPTY</td>\n",
       "      <td>4.0</td>\n",
       "      <td>(0.0, 0.0, 0.0, 0.0, 1.0, 0.0, 0.0, 0.0)</td>\n",
       "    </tr>\n",
       "    <tr>\n",
       "      <th>6</th>\n",
       "      <td>I_FORM</td>\n",
       "      <td>3.0</td>\n",
       "      <td>(0.0, 0.0, 0.0, 1.0, 0.0, 0.0, 0.0, 0.0)</td>\n",
       "    </tr>\n",
       "    <tr>\n",
       "      <th>7</th>\n",
       "      <td>NA</td>\n",
       "      <td>2.0</td>\n",
       "      <td>(0.0, 0.0, 1.0, 0.0, 0.0, 0.0, 0.0, 0.0)</td>\n",
       "    </tr>\n",
       "    <tr>\n",
       "      <th>8</th>\n",
       "      <td>ACE</td>\n",
       "      <td>8.0</td>\n",
       "      <td>(0.0, 0.0, 0.0, 0.0, 0.0, 0.0, 0.0, 0.0)</td>\n",
       "    </tr>\n",
       "  </tbody>\n",
       "</table>\n",
       "</div>"
      ],
      "text/plain": [
       "  offenseFormation  offenseFormation_index  \\\n",
       "0           PISTOL                     5.0   \n",
       "1       SINGLEBACK                     1.0   \n",
       "2          SHOTGUN                     0.0   \n",
       "3          WILDCAT                     7.0   \n",
       "4            JUMBO                     6.0   \n",
       "5            EMPTY                     4.0   \n",
       "6           I_FORM                     3.0   \n",
       "7               NA                     2.0   \n",
       "8              ACE                     8.0   \n",
       "\n",
       "                   offenseFormation_encoded  \n",
       "0  (0.0, 0.0, 0.0, 0.0, 0.0, 1.0, 0.0, 0.0)  \n",
       "1  (0.0, 1.0, 0.0, 0.0, 0.0, 0.0, 0.0, 0.0)  \n",
       "2  (1.0, 0.0, 0.0, 0.0, 0.0, 0.0, 0.0, 0.0)  \n",
       "3  (0.0, 0.0, 0.0, 0.0, 0.0, 0.0, 0.0, 1.0)  \n",
       "4  (0.0, 0.0, 0.0, 0.0, 0.0, 0.0, 1.0, 0.0)  \n",
       "5  (0.0, 0.0, 0.0, 0.0, 1.0, 0.0, 0.0, 0.0)  \n",
       "6  (0.0, 0.0, 0.0, 1.0, 0.0, 0.0, 0.0, 0.0)  \n",
       "7  (0.0, 0.0, 1.0, 0.0, 0.0, 0.0, 0.0, 0.0)  \n",
       "8  (0.0, 0.0, 0.0, 0.0, 0.0, 0.0, 0.0, 0.0)  "
      ]
     },
     "execution_count": 228,
     "metadata": {},
     "output_type": "execute_result"
    }
   ],
   "source": [
    "from pyspark.ml.feature import StringIndexer, OneHotEncoder\n",
    "from pyspark.ml import Pipeline\n",
    "\n",
    "\n",
    "# first part : transform the columns to numeric\n",
    "stage_1 = StringIndexer(inputCol= 'offenseFormation', outputCol= 'offenseFormation_index')\n",
    "stage_2 = StringIndexer(inputCol= 'possessionTeam', outputCol= 'possessionTeam_index')\n",
    "stage_3 = StringIndexer(inputCol= 'yardlineSide', outputCol= 'yardlineSide_index')\n",
    "stage_4 = StringIndexer(inputCol= 'personnel_offense', outputCol= 'personnel_offense_index')\n",
    "stage_5 = StringIndexer(inputCol= 'personnel_defense', outputCol= 'personnel_defense_index')\n",
    "\n",
    "\n",
    "# second part : one-hot encode the numeric columns\n",
    "stage_6= OneHotEncoder(inputCols=[\"offenseFormation_index\",\"possessionTeam_index\",\n",
    "                                  \"yardlineSide_index\", \"personnel_offense_index\", \"personnel_defense_index\"], \n",
    "                        outputCols=['offenseFormation_encoded','possessionTeam_encoded',\n",
    "                                   'yardlineSide_encoded', 'personnel_offense_encoded',\n",
    "                                   'personnel_defense_encoded'])\n",
    "\n",
    "# setup the pipeline\n",
    "pipeline = Pipeline(stages=[stage_1, stage_2, stage_3, stage_4, stage_5, stage_6])\n",
    "\n",
    "# fit the pipeline model and transform the data as defined\n",
    "pipeline_model = pipeline.fit(df_with_handled_binary)\n",
    "df_encoded = pipeline_model.transform(df_with_handled_binary)\n",
    "\n",
    "print(df_encoded.select(\"offenseFormation\").distinct().count())\n",
    "\n",
    "df_encoded.select(\"offenseFormation\",\"offenseFormation_index\",\"offenseFormation_encoded\")\\\n",
    "                .distinct().toPandas()\n"
   ]
  },
  {
   "cell_type": "code",
   "execution_count": 230,
   "id": "9e7c4cb4",
   "metadata": {},
   "outputs": [
    {
     "name": "stdout",
     "output_type": "stream",
     "text": [
      "root\n",
      " |-- quarter: integer (nullable = true)\n",
      " |-- down: integer (nullable = true)\n",
      " |-- yardsToGo: integer (nullable = true)\n",
      " |-- yardlineNumber: integer (nullable = true)\n",
      " |-- defendersInTheBox: integer (nullable = true)\n",
      " |-- HomeScoreAfterPlay: integer (nullable = true)\n",
      " |-- VisitorScoreAfterPlay: integer (nullable = true)\n",
      " |-- PlayResult: integer (nullable = true)\n",
      " |-- total_outliers: integer (nullable = false)\n",
      " |-- isPenalty_encoded: integer (nullable = true)\n",
      " |-- isSTPlay_encoded: integer (nullable = true)\n",
      " |-- offenseFormation_encoded: vector (nullable = true)\n",
      " |-- possessionTeam_encoded: vector (nullable = true)\n",
      " |-- yardlineSide_encoded: vector (nullable = true)\n",
      " |-- personnel_offense_encoded: vector (nullable = true)\n",
      " |-- personnel_defense_encoded: vector (nullable = true)\n",
      "\n"
     ]
    }
   ],
   "source": [
    "df_encoded = df_encoded.drop(\"offenseFormation\",\"offenseFormation_index\", \\\n",
    "                \"possessionTeam\",\"possessionTeam_index\", \\\n",
    "                \"yardlineSide\",\"yardlineSide_index\", \"personnel_offense\", \"personnel_defense\", \\\n",
    "                \"personnel_offense_index\", \"personnel_defense_index\")\n",
    "\n",
    "df_encoded.printSchema()"
   ]
  },
  {
   "cell_type": "markdown",
   "id": "f51dc5a7",
   "metadata": {},
   "source": [
    "#### 3-6. Combining Features into Single Vector"
   ]
  },
  {
   "cell_type": "code",
   "execution_count": 231,
   "id": "32652f69",
   "metadata": {},
   "outputs": [
    {
     "name": "stdout",
     "output_type": "stream",
     "text": [
      "['quarter', 'down', 'yardsToGo', 'yardlineNumber', 'defendersInTheBox', 'HomeScoreAfterPlay', 'VisitorScoreAfterPlay', 'PlayResult', 'total_outliers', 'isPenalty_encoded', 'isSTPlay_encoded', 'offenseFormation_encoded', 'possessionTeam_encoded', 'yardlineSide_encoded', 'personnel_offense_encoded', 'personnel_defense_encoded']\n"
     ]
    }
   ],
   "source": [
    "feature_list = df_encoded.columns\n",
    "print(feature_list)"
   ]
  },
  {
   "cell_type": "code",
   "execution_count": 233,
   "id": "9b99afdc",
   "metadata": {},
   "outputs": [
    {
     "name": "stdout",
     "output_type": "stream",
     "text": [
      "+------------------------------------------------------------------------------------------+\n",
      "|vectorized_features                                                                       |\n",
      "+------------------------------------------------------------------------------------------+\n",
      "|(179,[0,1,2,3,4,6,7,11,37,52,81,131],[2.0,1.0,10.0,19.0,6.0,10.0,6.0,1.0,1.0,1.0,1.0,1.0])|\n",
      "+------------------------------------------------------------------------------------------+\n",
      "only showing top 1 row\n",
      "\n"
     ]
    }
   ],
   "source": [
    "from pyspark.ml.feature import VectorAssembler\n",
    "\n",
    "\n",
    "vector_assembler = VectorAssembler(\n",
    "    inputCols=feature_list, \n",
    "    outputCol=\"vectorized_features\")\n",
    "\n",
    "df_with_assembled_features = vector_assembler.transform(df_encoded)\n",
    "df_with_assembled_features.select(\"vectorized_features\").show(1, truncate=False)"
   ]
  },
  {
   "cell_type": "code",
   "execution_count": 234,
   "id": "6b5f6c52",
   "metadata": {},
   "outputs": [
    {
     "data": {
      "text/html": [
       "<div>\n",
       "<style scoped>\n",
       "    .dataframe tbody tr th:only-of-type {\n",
       "        vertical-align: middle;\n",
       "    }\n",
       "\n",
       "    .dataframe tbody tr th {\n",
       "        vertical-align: top;\n",
       "    }\n",
       "\n",
       "    .dataframe thead th {\n",
       "        text-align: right;\n",
       "    }\n",
       "</style>\n",
       "<table border=\"1\" class=\"dataframe\">\n",
       "  <thead>\n",
       "    <tr style=\"text-align: right;\">\n",
       "      <th></th>\n",
       "      <th>vectorized_features</th>\n",
       "      <th>defendersInTheBox</th>\n",
       "    </tr>\n",
       "  </thead>\n",
       "  <tbody>\n",
       "    <tr>\n",
       "      <th>0</th>\n",
       "      <td>(3.0, 2.0, 17.0, 13.0, 6.0, 10.0, 17.0, 0.0, 0...</td>\n",
       "      <td>6</td>\n",
       "    </tr>\n",
       "    <tr>\n",
       "      <th>1</th>\n",
       "      <td>(3.0, 1.0, 10.0, 15.0, 8.0, 37.0, 0.0, 9.0, 0....</td>\n",
       "      <td>8</td>\n",
       "    </tr>\n",
       "    <tr>\n",
       "      <th>2</th>\n",
       "      <td>(4.0, 3.0, 2.0, 40.0, 7.0, 28.0, 14.0, 0.0, 0....</td>\n",
       "      <td>7</td>\n",
       "    </tr>\n",
       "    <tr>\n",
       "      <th>3</th>\n",
       "      <td>(3.0, 1.0, 10.0, 34.0, 6.0, 24.0, 16.0, 5.0, 0...</td>\n",
       "      <td>6</td>\n",
       "    </tr>\n",
       "    <tr>\n",
       "      <th>4</th>\n",
       "      <td>(4.0, 2.0, 20.0, 30.0, 6.0, 21.0, 21.0, 16.0, ...</td>\n",
       "      <td>6</td>\n",
       "    </tr>\n",
       "    <tr>\n",
       "      <th>...</th>\n",
       "      <td>...</td>\n",
       "      <td>...</td>\n",
       "    </tr>\n",
       "    <tr>\n",
       "      <th>13638</th>\n",
       "      <td>(4.0, 4.0, 11.0, 22.0, 6.0, 10.0, 23.0, 0.0, 0...</td>\n",
       "      <td>6</td>\n",
       "    </tr>\n",
       "    <tr>\n",
       "      <th>13639</th>\n",
       "      <td>(3.0, 1.0, 10.0, 29.0, 7.0, 10.0, 13.0, 3.0, 0...</td>\n",
       "      <td>7</td>\n",
       "    </tr>\n",
       "    <tr>\n",
       "      <th>13640</th>\n",
       "      <td>(3.0, 4.0, 4.0, 20.0, 6.0, 10.0, 13.0, 0.0, 0....</td>\n",
       "      <td>6</td>\n",
       "    </tr>\n",
       "    <tr>\n",
       "      <th>13641</th>\n",
       "      <td>(4.0, 1.0, 10.0, 22.0, 6.0, 17.0, 24.0, 9.0, 0...</td>\n",
       "      <td>6</td>\n",
       "    </tr>\n",
       "    <tr>\n",
       "      <th>13642</th>\n",
       "      <td>(2.0, 1.0, 1.0, 1.0, 11.0, 21.0, 0.0, -2.0, 1....</td>\n",
       "      <td>11</td>\n",
       "    </tr>\n",
       "  </tbody>\n",
       "</table>\n",
       "<p>13643 rows × 2 columns</p>\n",
       "</div>"
      ],
      "text/plain": [
       "                                     vectorized_features  defendersInTheBox\n",
       "0      (3.0, 2.0, 17.0, 13.0, 6.0, 10.0, 17.0, 0.0, 0...                  6\n",
       "1      (3.0, 1.0, 10.0, 15.0, 8.0, 37.0, 0.0, 9.0, 0....                  8\n",
       "2      (4.0, 3.0, 2.0, 40.0, 7.0, 28.0, 14.0, 0.0, 0....                  7\n",
       "3      (3.0, 1.0, 10.0, 34.0, 6.0, 24.0, 16.0, 5.0, 0...                  6\n",
       "4      (4.0, 2.0, 20.0, 30.0, 6.0, 21.0, 21.0, 16.0, ...                  6\n",
       "...                                                  ...                ...\n",
       "13638  (4.0, 4.0, 11.0, 22.0, 6.0, 10.0, 23.0, 0.0, 0...                  6\n",
       "13639  (3.0, 1.0, 10.0, 29.0, 7.0, 10.0, 13.0, 3.0, 0...                  7\n",
       "13640  (3.0, 4.0, 4.0, 20.0, 6.0, 10.0, 13.0, 0.0, 0....                  6\n",
       "13641  (4.0, 1.0, 10.0, 22.0, 6.0, 17.0, 24.0, 9.0, 0...                  6\n",
       "13642  (2.0, 1.0, 1.0, 1.0, 11.0, 21.0, 0.0, -2.0, 1....                 11\n",
       "\n",
       "[13643 rows x 2 columns]"
      ]
     },
     "execution_count": 234,
     "metadata": {},
     "output_type": "execute_result"
    }
   ],
   "source": [
    "df_with_assembled_features.select(\"vectorized_features\",\"defendersInTheBox\")\\\n",
    "    .distinct().toPandas()"
   ]
  },
  {
   "cell_type": "markdown",
   "id": "d6dd48bb",
   "metadata": {},
   "source": [
    "#### 3-7. Data Scaling"
   ]
  },
  {
   "cell_type": "code",
   "execution_count": 236,
   "id": "13934842",
   "metadata": {},
   "outputs": [
    {
     "data": {
      "text/html": [
       "<div>\n",
       "<style scoped>\n",
       "    .dataframe tbody tr th:only-of-type {\n",
       "        vertical-align: middle;\n",
       "    }\n",
       "\n",
       "    .dataframe tbody tr th {\n",
       "        vertical-align: top;\n",
       "    }\n",
       "\n",
       "    .dataframe thead th {\n",
       "        text-align: right;\n",
       "    }\n",
       "</style>\n",
       "<table border=\"1\" class=\"dataframe\">\n",
       "  <thead>\n",
       "    <tr style=\"text-align: right;\">\n",
       "      <th></th>\n",
       "      <th>defendersInTheBox</th>\n",
       "      <th>features</th>\n",
       "    </tr>\n",
       "  </thead>\n",
       "  <tbody>\n",
       "    <tr>\n",
       "      <th>0</th>\n",
       "      <td>6</td>\n",
       "      <td>(2.667564540773185, 0.8860746743406464, 2.1856...</td>\n",
       "    </tr>\n",
       "    <tr>\n",
       "      <th>1</th>\n",
       "      <td>7</td>\n",
       "      <td>(0.8891881802577283, 0.8860746743406464, 2.185...</td>\n",
       "    </tr>\n",
       "    <tr>\n",
       "      <th>2</th>\n",
       "      <td>7</td>\n",
       "      <td>(2.667564540773185, 1.7721493486812927, 0.2185...</td>\n",
       "    </tr>\n",
       "    <tr>\n",
       "      <th>3</th>\n",
       "      <td>7</td>\n",
       "      <td>(3.556752721030913, 0.8860746743406464, 2.1856...</td>\n",
       "    </tr>\n",
       "    <tr>\n",
       "      <th>4</th>\n",
       "      <td>6</td>\n",
       "      <td>(3.556752721030913, 1.7721493486812927, 2.1856...</td>\n",
       "    </tr>\n",
       "    <tr>\n",
       "      <th>...</th>\n",
       "      <td>...</td>\n",
       "      <td>...</td>\n",
       "    </tr>\n",
       "    <tr>\n",
       "      <th>13638</th>\n",
       "      <td>5</td>\n",
       "      <td>(1.7783763605154566, 2.658224023021939, 4.5898...</td>\n",
       "    </tr>\n",
       "    <tr>\n",
       "      <th>13639</th>\n",
       "      <td>6</td>\n",
       "      <td>(1.7783763605154566, 0.0, 0.0, 2.8292302442510...</td>\n",
       "    </tr>\n",
       "    <tr>\n",
       "      <th>13640</th>\n",
       "      <td>6</td>\n",
       "      <td>(1.7783763605154566, 2.658224023021939, 1.9670...</td>\n",
       "    </tr>\n",
       "    <tr>\n",
       "      <th>13641</th>\n",
       "      <td>8</td>\n",
       "      <td>(0.8891881802577283, 1.7721493486812927, 1.529...</td>\n",
       "    </tr>\n",
       "    <tr>\n",
       "      <th>13642</th>\n",
       "      <td>6</td>\n",
       "      <td>(2.667564540773185, 2.658224023021939, 1.09281...</td>\n",
       "    </tr>\n",
       "  </tbody>\n",
       "</table>\n",
       "<p>13643 rows × 2 columns</p>\n",
       "</div>"
      ],
      "text/plain": [
       "       defendersInTheBox                                           features\n",
       "0                      6  (2.667564540773185, 0.8860746743406464, 2.1856...\n",
       "1                      7  (0.8891881802577283, 0.8860746743406464, 2.185...\n",
       "2                      7  (2.667564540773185, 1.7721493486812927, 0.2185...\n",
       "3                      7  (3.556752721030913, 0.8860746743406464, 2.1856...\n",
       "4                      6  (3.556752721030913, 1.7721493486812927, 2.1856...\n",
       "...                  ...                                                ...\n",
       "13638                  5  (1.7783763605154566, 2.658224023021939, 4.5898...\n",
       "13639                  6  (1.7783763605154566, 0.0, 0.0, 2.8292302442510...\n",
       "13640                  6  (1.7783763605154566, 2.658224023021939, 1.9670...\n",
       "13641                  8  (0.8891881802577283, 1.7721493486812927, 1.529...\n",
       "13642                  6  (2.667564540773185, 2.658224023021939, 1.09281...\n",
       "\n",
       "[13643 rows x 2 columns]"
      ]
     },
     "execution_count": 236,
     "metadata": {},
     "output_type": "execute_result"
    }
   ],
   "source": [
    "from pyspark.ml.feature import StandardScaler\n",
    "standard_scaler = StandardScaler(inputCol= 'vectorized_features', outputCol= 'features')\n",
    "scaled_model = standard_scaler.fit(df_with_assembled_features)\n",
    "df_with_scaled_features = scaled_model.transform(df_with_assembled_features)\n",
    "\n",
    "df_with_scaled_features.select(\"defendersInTheBox\",\"features\").distinct().toPandas()"
   ]
  },
  {
   "cell_type": "code",
   "execution_count": null,
   "id": "2d6b80ea",
   "metadata": {},
   "outputs": [],
   "source": []
  }
 ],
 "metadata": {
  "kernelspec": {
   "display_name": "Python 3 (ipykernel)",
   "language": "python",
   "name": "python3"
  },
  "language_info": {
   "codemirror_mode": {
    "name": "ipython",
    "version": 3
   },
   "file_extension": ".py",
   "mimetype": "text/x-python",
   "name": "python",
   "nbconvert_exporter": "python",
   "pygments_lexer": "ipython3",
   "version": "3.10.7"
  }
 },
 "nbformat": 4,
 "nbformat_minor": 5
}
